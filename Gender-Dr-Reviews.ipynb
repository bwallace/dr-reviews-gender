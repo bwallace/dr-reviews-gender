{
 "cells": [
  {
   "cell_type": "code",
   "execution_count": 18,
   "metadata": {
    "collapsed": false
   },
   "outputs": [],
   "source": [
    "import os\n",
    "import pandas as pd\n",
    "import numpy as np\n",
    "import sklearn\n",
    "import statsmodels.api as sm\n",
    "import patsy\n",
    "from patsy import dmatrices\n",
    "from sklearn.feature_extraction.text import CountVectorizer  \n",
    "from sklearn.model_selection import GridSearchCV\n",
    "from sklearn.linear_model import LogisticRegression"
   ]
  },
  {
   "cell_type": "code",
   "execution_count": 26,
   "metadata": {
    "collapsed": false
   },
   "outputs": [
    {
     "name": "stderr",
     "output_type": "stream",
     "text": [
      "/anaconda/lib/python3.4/site-packages/ipykernel/__main__.py:6: SettingWithCopyWarning: \n",
      "A value is trying to be set on a copy of a slice from a DataFrame.\n",
      "Try using .loc[row_indexer,col_indexer] = value instead\n",
      "\n",
      "See the caveats in the documentation: http://pandas.pydata.org/pandas-docs/stable/indexing.html#indexing-view-versus-copy\n",
      "/anaconda/lib/python3.4/site-packages/ipykernel/__main__.py:8: SettingWithCopyWarning: \n",
      "A value is trying to be set on a copy of a slice from a DataFrame.\n",
      "Try using .loc[row_indexer,col_indexer] = value instead\n",
      "\n",
      "See the caveats in the documentation: http://pandas.pydata.org/pandas-docs/stable/indexing.html#indexing-view-versus-copy\n"
     ]
    },
    {
     "data": {
      "text/plain": [
       "(53401, 11)"
      ]
     },
     "execution_count": 26,
     "metadata": {},
     "output_type": "execute_result"
    }
   ],
   "source": [
    "merged = pd.read_csv(\"merged_with_gender.tsv\", delimiter=\"\\t\")\n",
    "# filter out examples where we failed to infer gender\n",
    "genders = ['male', 'female']\n",
    "df_filtered = merged[merged['gender'].isin(genders)]\n",
    "# some cleaning\n",
    "df_filtered[\"knowledge\"] = pd.to_numeric(df_filtered[\"knowledge\"].str.strip(\"&nbsp;\"), errors='coerce')\n",
    "# staff often missing\n",
    "df_filtered[\"staff\"] = pd.to_numeric(df_filtered[\"staff\"].str.strip(\"&nbsp;\"), errors='coerce')\n",
    "df_filtered.shape"
   ]
  },
  {
   "cell_type": "code",
   "execution_count": 33,
   "metadata": {
    "collapsed": false
   },
   "outputs": [
    {
     "data": {
      "text/html": [
       "<div>\n",
       "<table border=\"1\" class=\"dataframe\">\n",
       "  <thead>\n",
       "    <tr style=\"text-align: right;\">\n",
       "      <th></th>\n",
       "      <th>Unnamed: 0</th>\n",
       "      <th>dr-id</th>\n",
       "      <th>gendel</th>\n",
       "      <th>gender</th>\n",
       "      <th>helpful</th>\n",
       "      <th>insurance</th>\n",
       "      <th>knowledge</th>\n",
       "      <th>punctual</th>\n",
       "      <th>rating</th>\n",
       "      <th>review-text</th>\n",
       "      <th>staff</th>\n",
       "    </tr>\n",
       "  </thead>\n",
       "  <tbody>\n",
       "    <tr>\n",
       "      <th>0</th>\n",
       "      <td>0</td>\n",
       "      <td>1</td>\n",
       "      <td>NaN</td>\n",
       "      <td>male</td>\n",
       "      <td>5</td>\n",
       "      <td>Insurance:Unknown</td>\n",
       "      <td>5</td>\n",
       "      <td>5</td>\n",
       "      <td>1</td>\n",
       "      <td>A CARING DOCTOR WHO CARES ABOUT HIS PATIENTS. ...</td>\n",
       "      <td>5</td>\n",
       "    </tr>\n",
       "    <tr>\n",
       "      <th>1</th>\n",
       "      <td>1</td>\n",
       "      <td>1</td>\n",
       "      <td>NaN</td>\n",
       "      <td>male</td>\n",
       "      <td>5</td>\n",
       "      <td>Insurance:Medicare</td>\n",
       "      <td>5</td>\n",
       "      <td>5</td>\n",
       "      <td>1</td>\n",
       "      <td>We have used Dr. Carden all of his career and ...</td>\n",
       "      <td>5</td>\n",
       "    </tr>\n",
       "    <tr>\n",
       "      <th>2</th>\n",
       "      <td>2</td>\n",
       "      <td>1</td>\n",
       "      <td>NaN</td>\n",
       "      <td>male</td>\n",
       "      <td>5</td>\n",
       "      <td>Insurance:Blue Cross / Blue Shield</td>\n",
       "      <td>5</td>\n",
       "      <td>5</td>\n",
       "      <td>1</td>\n",
       "      <td>Very good doctor, caring.   I think he knows e...</td>\n",
       "      <td>5</td>\n",
       "    </tr>\n",
       "    <tr>\n",
       "      <th>3</th>\n",
       "      <td>3</td>\n",
       "      <td>1</td>\n",
       "      <td>NaN</td>\n",
       "      <td>male</td>\n",
       "      <td>5</td>\n",
       "      <td>Insurance:United Healthcare</td>\n",
       "      <td>5</td>\n",
       "      <td>4</td>\n",
       "      <td>1</td>\n",
       "      <td>Dr. Carden is an outstanding physician. He spe...</td>\n",
       "      <td>4</td>\n",
       "    </tr>\n",
       "    <tr>\n",
       "      <th>4</th>\n",
       "      <td>4</td>\n",
       "      <td>1</td>\n",
       "      <td>NaN</td>\n",
       "      <td>male</td>\n",
       "      <td>5</td>\n",
       "      <td>Insurance:Unknown</td>\n",
       "      <td>5</td>\n",
       "      <td>5</td>\n",
       "      <td>1</td>\n",
       "      <td>Dr.Carden Is a great doctor that listens to hi...</td>\n",
       "      <td>5</td>\n",
       "    </tr>\n",
       "  </tbody>\n",
       "</table>\n",
       "</div>"
      ],
      "text/plain": [
       "   Unnamed: 0  dr-id gendel gender  helpful  \\\n",
       "0           0      1    NaN   male        5   \n",
       "1           1      1    NaN   male        5   \n",
       "2           2      1    NaN   male        5   \n",
       "3           3      1    NaN   male        5   \n",
       "4           4      1    NaN   male        5   \n",
       "\n",
       "                            insurance  knowledge  punctual  rating  \\\n",
       "0                   Insurance:Unknown          5         5       1   \n",
       "1                  Insurance:Medicare          5         5       1   \n",
       "2  Insurance:Blue Cross / Blue Shield          5         5       1   \n",
       "3         Insurance:United Healthcare          5         4       1   \n",
       "4                   Insurance:Unknown          5         5       1   \n",
       "\n",
       "                                         review-text  staff  \n",
       "0  A CARING DOCTOR WHO CARES ABOUT HIS PATIENTS. ...      5  \n",
       "1  We have used Dr. Carden all of his career and ...      5  \n",
       "2  Very good doctor, caring.   I think he knows e...      5  \n",
       "3  Dr. Carden is an outstanding physician. He spe...      4  \n",
       "4  Dr.Carden Is a great doctor that listens to hi...      5  "
      ]
     },
     "execution_count": 33,
     "metadata": {},
     "output_type": "execute_result"
    }
   ],
   "source": [
    "df_filtered.head()"
   ]
  },
  {
   "cell_type": "code",
   "execution_count": 22,
   "metadata": {
    "collapsed": false
   },
   "outputs": [],
   "source": [
    "grouped = df_filtered.groupby('dr-id')"
   ]
  },
  {
   "cell_type": "markdown",
   "metadata": {},
   "source": [
    "Stolen from stanford people: https://raw.githubusercontent.com/stanfordnlp/CoreNLP/master/data/edu/stanford/nlp/patterns/surface/stopwords.txt"
   ]
  },
  {
   "cell_type": "code",
   "execution_count": 28,
   "metadata": {
    "collapsed": false
   },
   "outputs": [
    {
     "data": {
      "text/plain": [
       "['!!', '?!', '??', '!?', '`', '``', \"''\", '-lrb-', '-rrb-', '-lsb-']"
      ]
     },
     "execution_count": 28,
     "metadata": {},
     "output_type": "execute_result"
    }
   ],
   "source": [
    "stop_words = [w.strip() for w in open(\"stopwords.txt\").readlines()]\n",
    "stop_words[:10]"
   ]
  },
  {
   "cell_type": "markdown",
   "metadata": {},
   "source": [
    "Let's remove gender pronouns since these aren't terribly interesting as predictors"
   ]
  },
  {
   "cell_type": "code",
   "execution_count": 29,
   "metadata": {
    "collapsed": false
   },
   "outputs": [],
   "source": [
    "gender_pronouns = [\"she\", \"her\", \"hers\", \"his\", \"he\", \"guy\", \"she's\", \"he's\", \"commentshe\", \"commentsshe\", \"man\", \"woman\"]\n",
    "stop_words.extend(gender_pronouns)"
   ]
  },
  {
   "cell_type": "markdown",
   "metadata": {},
   "source": [
    "Merge reviews for individual doctors (we have multiple reviews for each!)"
   ]
  },
  {
   "cell_type": "code",
   "execution_count": 30,
   "metadata": {
    "collapsed": false
   },
   "outputs": [],
   "source": [
    "unique_drs = df_filtered[\"dr-id\"].unique()\n",
    "unique_drs.shape\n",
    "grouped = df_filtered.groupby('dr-id')\n",
    "texts, sexes, helpful, knowledge, punctual, staff, ids = [], [], [], [], [], [], []\n",
    "for i, dr in grouped:\n",
    "    cur_text = \" \".join(dr['review-text'].values)\n",
    "    texts.append(cur_text)\n",
    "    cur_sex = dr[\"gender\"].values[0]\n",
    "\n",
    "    helpful.append(dr[\"helpful\"].mean(skipna=True)) # assuming missing at random!\n",
    "    knowledge.append(dr[\"knowledge\"].mean(skipna=True))\n",
    "    punctual.append(dr[\"punctual\"].mean(skipna=True))\n",
    "    staff.append(dr[\"staff\"].mean(skipna=True))\n",
    "\n",
    "    ids.append(dr[\"dr-id\"].values[0])\n",
    "    sexes.append(cur_sex)\n",
    "\n",
    "dr_frame = pd.DataFrame({\"sex\":sexes, \"y_helpful\":helpful, \"y_knowledge\":knowledge, \"y_punctual\":punctual, \"y_staff\":staff, \"id\":ids})"
   ]
  },
  {
   "cell_type": "code",
   "execution_count": 38,
   "metadata": {
    "collapsed": false
   },
   "outputs": [
    {
     "data": {
      "text/plain": [
       "(16488, 6)"
      ]
     },
     "execution_count": 38,
     "metadata": {},
     "output_type": "execute_result"
    }
   ],
   "source": [
    "dr_frame.shape"
   ]
  },
  {
   "cell_type": "markdown",
   "metadata": {},
   "source": [
    "How many females v males?"
   ]
  },
  {
   "cell_type": "code",
   "execution_count": 39,
   "metadata": {
    "collapsed": false
   },
   "outputs": [
    {
     "data": {
      "text/plain": [
       "(16469, 6)"
      ]
     },
     "execution_count": 39,
     "metadata": {},
     "output_type": "execute_result"
    }
   ],
   "source": [
    "sexes.count(\"female\")/float(len(sexes))\n",
    "sexes.count(\"female\")"
   ]
  },
  {
   "cell_type": "markdown",
   "metadata": {},
   "source": [
    "So about 72% male"
   ]
  },
  {
   "cell_type": "markdown",
   "metadata": {},
   "source": [
    "Note; should probably pull out and pool reviews for physicians -- here we treat individual reviews for the same physician as multiple / independent instances"
   ]
  },
  {
   "cell_type": "markdown",
   "metadata": {},
   "source": [
    "## Regression analysis for gender-score "
   ]
  },
  {
   "cell_type": "markdown",
   "metadata": {},
   "source": [
    "**Important caveats** we are making several assumptions here, including:\n",
    "* We are treating the means as a point estimates and not explicitly weighting by variance\n",
    "* We are ignoring what are likely confounders, including specialties -- e.g., there may be certain specialties that receive lower scores and perhaps women are overrepresented in these. We have no way of knowing."
   ]
  },
  {
   "cell_type": "code",
   "execution_count": 55,
   "metadata": {
    "collapsed": false
   },
   "outputs": [
    {
     "name": "stdout",
     "output_type": "stream",
     "text": [
      "                            OLS Regression Results                            \n",
      "==============================================================================\n",
      "Dep. Variable:              y_helpful   R-squared:                       0.001\n",
      "Model:                            OLS   Adj. R-squared:                  0.001\n",
      "Method:                 Least Squares   F-statistic:                     13.99\n",
      "Date:                Fri, 28 Oct 2016   Prob (F-statistic):           0.000185\n",
      "Time:                        17:57:11   Log-Likelihood:                -28355.\n",
      "No. Observations:               16485   AIC:                         5.671e+04\n",
      "Df Residuals:                   16483   BIC:                         5.673e+04\n",
      "Df Model:                           1                                         \n",
      "Covariance Type:            nonrobust                                         \n",
      "===============================================================================\n",
      "                  coef    std err          t      P>|t|      [95.0% Conf. Int.]\n",
      "-------------------------------------------------------------------------------\n",
      "Intercept       3.6467      0.020    184.220      0.000         3.608     3.685\n",
      "sex[T.male]     0.0874      0.023      3.740      0.000         0.042     0.133\n",
      "==============================================================================\n",
      "Omnibus:                     1888.944   Durbin-Watson:                   1.709\n",
      "Prob(Omnibus):                  0.000   Jarque-Bera (JB):             1868.410\n",
      "Skew:                          -0.762   Prob(JB):                         0.00\n",
      "Kurtosis:                       2.372   Cond. No.                         3.53\n",
      "==============================================================================\n",
      "\n",
      "Warnings:\n",
      "[1] Standard Errors assume that the covariance matrix of the errors is correctly specified.\n"
     ]
    }
   ],
   "source": [
    "y_helpful, X = dmatrices('y_helpful ~ sex', data=dr_frame.dropna(subset=[\"y_helpful\"]), return_type='dataframe')\n",
    "mod = sm.OLS(y_helpful, X)\n",
    "res_helpful = mod.fit()\n",
    "print(res_helpful.summary())"
   ]
  },
  {
   "cell_type": "code",
   "execution_count": 62,
   "metadata": {
    "collapsed": false
   },
   "outputs": [
    {
     "name": "stderr",
     "output_type": "stream",
     "text": [
      "/anaconda/lib/python3.4/site-packages/matplotlib/collections.py:590: FutureWarning: elementwise comparison failed; returning scalar instead, but in the future will perform elementwise comparison\n",
      "  if self._edgecolors == str('face'):\n"
     ]
    }
   ],
   "source": [
    "import coef_plots\n",
    "import importlib\n",
    "importlib.reload(coef_plots)\n",
    "point_estimates = np.copy(res_helpful.params.values)\n",
    "# add intercept to male factor\n",
    "point_estimates[1] = point_estimates[0]+point_estimates[1]\n",
    "lowers = point_estimates - 1.96*res_helpful.bse.values\n",
    "uppers = point_estimates + 1.96*res_helpful.bse.values\n",
    "names = [\"female\", \"male\"]\n",
    "colors = [\"black\", \"blue\"]\n",
    "coef_plots.point_ests_and_CIs(point_estimates, lowers, uppers, names, colors, \"helpfulness.pdf\", xtitle=\"Helpfulness\" )"
   ]
  },
  {
   "cell_type": "code",
   "execution_count": 52,
   "metadata": {
    "collapsed": false
   },
   "outputs": [
    {
     "data": {
      "text/plain": [
       "array([ 3.64665305,  0.0874156 ])"
      ]
     },
     "execution_count": 52,
     "metadata": {},
     "output_type": "execute_result"
    }
   ],
   "source": [
    "res_helpful.params.values"
   ]
  },
  {
   "cell_type": "code",
   "execution_count": 43,
   "metadata": {
    "collapsed": false
   },
   "outputs": [
    {
     "name": "stdout",
     "output_type": "stream",
     "text": [
      "                            OLS Regression Results                            \n",
      "==============================================================================\n",
      "Dep. Variable:            y_knowledge   R-squared:                       0.001\n",
      "Model:                            OLS   Adj. R-squared:                  0.001\n",
      "Method:                 Least Squares   F-statistic:                     17.44\n",
      "Date:                Fri, 28 Oct 2016   Prob (F-statistic):           2.98e-05\n",
      "Time:                        17:03:37   Log-Likelihood:                -27077.\n",
      "No. Observations:               16485   AIC:                         5.416e+04\n",
      "Df Residuals:                   16483   BIC:                         5.417e+04\n",
      "Df Model:                           1                                         \n",
      "Covariance Type:            nonrobust                                         \n",
      "===============================================================================\n",
      "                  coef    std err          t      P>|t|      [95.0% Conf. Int.]\n",
      "-------------------------------------------------------------------------------\n",
      "Intercept       3.8143      0.018    208.224      0.000         3.778     3.850\n",
      "sex[T.male]     0.0903      0.022      4.176      0.000         0.048     0.133\n",
      "==============================================================================\n",
      "Omnibus:                     1862.754   Durbin-Watson:                   1.725\n",
      "Prob(Omnibus):                  0.000   Jarque-Bera (JB):             2572.575\n",
      "Skew:                          -0.966   Prob(JB):                         0.00\n",
      "Kurtosis:                       2.883   Cond. No.                         3.53\n",
      "==============================================================================\n",
      "\n",
      "Warnings:\n",
      "[1] Standard Errors assume that the covariance matrix of the errors is correctly specified.\n"
     ]
    }
   ],
   "source": [
    "y_knowledge, X = dmatrices('y_knowledge ~ sex', data=dr_frame.dropna(subset=[\"y_knowledge\"]), return_type='dataframe')\n",
    "mod = sm.OLS(y_knowledge, X)\n",
    "res_knowledge = mod.fit()\n",
    "print(res_knowledge.summary())"
   ]
  },
  {
   "cell_type": "code",
   "execution_count": 63,
   "metadata": {
    "collapsed": false
   },
   "outputs": [
    {
     "name": "stderr",
     "output_type": "stream",
     "text": [
      "/anaconda/lib/python3.4/site-packages/matplotlib/collections.py:590: FutureWarning: elementwise comparison failed; returning scalar instead, but in the future will perform elementwise comparison\n",
      "  if self._edgecolors == str('face'):\n"
     ]
    }
   ],
   "source": [
    "import coef_plots\n",
    "import importlib\n",
    "importlib.reload(coef_plots)\n",
    "point_estimates = np.copy(res_knowledge.params.values)\n",
    "# add intercept to male factor\n",
    "point_estimates[1] = point_estimates[0]+point_estimates[1]\n",
    "lowers = point_estimates - 1.96*res_knowledge.bse.values\n",
    "uppers = point_estimates + 1.96*res_knowledge.bse.values\n",
    "names = [\"female\", \"male\"]\n",
    "colors = [\"black\", \"blue\"]\n",
    "coef_plots.point_ests_and_CIs(point_estimates, lowers, uppers, names, colors, \"knowledge.pdf\", xtitle=\"Knowledge\" )"
   ]
  },
  {
   "cell_type": "code",
   "execution_count": 42,
   "metadata": {
    "collapsed": false
   },
   "outputs": [
    {
     "name": "stdout",
     "output_type": "stream",
     "text": [
      "                            OLS Regression Results                            \n",
      "==============================================================================\n",
      "Dep. Variable:             y_punctual   R-squared:                       0.002\n",
      "Model:                            OLS   Adj. R-squared:                  0.002\n",
      "Method:                 Least Squares   F-statistic:                     41.23\n",
      "Date:                Fri, 28 Oct 2016   Prob (F-statistic):           1.39e-10\n",
      "Time:                        17:03:21   Log-Likelihood:                -26066.\n",
      "No. Observations:               16469   AIC:                         5.214e+04\n",
      "Df Residuals:                   16467   BIC:                         5.215e+04\n",
      "Df Model:                           1                                         \n",
      "Covariance Type:            nonrobust                                         \n",
      "===============================================================================\n",
      "                  coef    std err          t      P>|t|      [95.0% Conf. Int.]\n",
      "-------------------------------------------------------------------------------\n",
      "Intercept       3.6203      0.017    209.700      0.000         3.587     3.654\n",
      "sex[T.male]     0.1309      0.020      6.421      0.000         0.091     0.171\n",
      "==============================================================================\n",
      "Omnibus:                     1400.116   Durbin-Watson:                   1.642\n",
      "Prob(Omnibus):                  0.000   Jarque-Bera (JB):             1763.955\n",
      "Skew:                          -0.795   Prob(JB):                         0.00\n",
      "Kurtosis:                       2.790   Cond. No.                         3.53\n",
      "==============================================================================\n",
      "\n",
      "Warnings:\n",
      "[1] Standard Errors assume that the covariance matrix of the errors is correctly specified.\n"
     ]
    }
   ],
   "source": [
    "y_punctual, X = dmatrices('y_punctual ~ sex', data=dr_frame.dropna(subset=[\"y_punctual\"]), return_type='dataframe')\n",
    "mod = sm.OLS(y_punctual, X)\n",
    "res_punc = mod.fit()\n",
    "print(res_punc.summary())"
   ]
  },
  {
   "cell_type": "code",
   "execution_count": 64,
   "metadata": {
    "collapsed": false
   },
   "outputs": [
    {
     "name": "stderr",
     "output_type": "stream",
     "text": [
      "/anaconda/lib/python3.4/site-packages/matplotlib/collections.py:590: FutureWarning: elementwise comparison failed; returning scalar instead, but in the future will perform elementwise comparison\n",
      "  if self._edgecolors == str('face'):\n"
     ]
    }
   ],
   "source": [
    "import coef_plots\n",
    "import importlib\n",
    "importlib.reload(coef_plots)\n",
    "point_estimates = np.copy(res_punc.params.values)\n",
    "# add intercept to male factor\n",
    "point_estimates[1] = point_estimates[0]+point_estimates[1]\n",
    "lowers = point_estimates - 1.96*res_punc.bse.values\n",
    "uppers = point_estimates + 1.96*res_punc.bse.values\n",
    "names = [\"female\", \"male\"]\n",
    "colors = [\"black\", \"blue\"]\n",
    "coef_plots.point_ests_and_CIs(point_estimates, lowers, uppers, names, colors, \"punctual.pdf\", xtitle=\"Punctuality\" )"
   ]
  },
  {
   "cell_type": "code",
   "execution_count": 41,
   "metadata": {
    "collapsed": false
   },
   "outputs": [
    {
     "name": "stdout",
     "output_type": "stream",
     "text": [
      "                            OLS Regression Results                            \n",
      "==============================================================================\n",
      "Dep. Variable:                y_staff   R-squared:                       0.002\n",
      "Model:                            OLS   Adj. R-squared:                  0.002\n",
      "Method:                 Least Squares   F-statistic:                     29.07\n",
      "Date:                Fri, 28 Oct 2016   Prob (F-statistic):           7.10e-08\n",
      "Time:                        17:03:17   Log-Likelihood:                -24477.\n",
      "No. Observations:               15290   AIC:                         4.896e+04\n",
      "Df Residuals:                   15288   BIC:                         4.897e+04\n",
      "Df Model:                           1                                         \n",
      "Covariance Type:            nonrobust                                         \n",
      "===============================================================================\n",
      "                  coef    std err          t      P>|t|      [95.0% Conf. Int.]\n",
      "-------------------------------------------------------------------------------\n",
      "Intercept       3.7263      0.018    204.292      0.000         3.691     3.762\n",
      "sex[T.male]     0.1161      0.022      5.391      0.000         0.074     0.158\n",
      "==============================================================================\n",
      "Omnibus:                     1571.755   Durbin-Watson:                   1.721\n",
      "Prob(Omnibus):                  0.000   Jarque-Bera (JB):             2113.391\n",
      "Skew:                          -0.910   Prob(JB):                         0.00\n",
      "Kurtosis:                       2.920   Cond. No.                         3.53\n",
      "==============================================================================\n",
      "\n",
      "Warnings:\n",
      "[1] Standard Errors assume that the covariance matrix of the errors is correctly specified.\n"
     ]
    }
   ],
   "source": [
    "y_staff, X = dmatrices('y_staff ~ sex', data=dr_frame.dropna(subset=[\"y_staff\"]), return_type='dataframe')\n",
    "mod = sm.OLS(y_staff, X)\n",
    "res_staff = mod.fit()\n",
    "print(res_staff.summary())"
   ]
  },
  {
   "cell_type": "code",
   "execution_count": 65,
   "metadata": {
    "collapsed": false
   },
   "outputs": [
    {
     "name": "stderr",
     "output_type": "stream",
     "text": [
      "/anaconda/lib/python3.4/site-packages/matplotlib/collections.py:590: FutureWarning: elementwise comparison failed; returning scalar instead, but in the future will perform elementwise comparison\n",
      "  if self._edgecolors == str('face'):\n"
     ]
    }
   ],
   "source": [
    "import coef_plots\n",
    "import importlib\n",
    "importlib.reload(coef_plots)\n",
    "point_estimates = np.copy(res_staff.params.values)\n",
    "# add intercept to male factor\n",
    "point_estimates[1] = point_estimates[0]+point_estimates[1]\n",
    "lowers = point_estimates - 1.96*res_staff.bse.values\n",
    "uppers = point_estimates + 1.96*res_staff.bse.values\n",
    "names = [\"female\", \"male\"]\n",
    "colors = [\"black\", \"blue\"]\n",
    "coef_plots.point_ests_and_CIs(point_estimates, lowers, uppers, names, colors, \"staff.pdf\", xtitle=\"Staff\" )"
   ]
  },
  {
   "cell_type": "markdown",
   "metadata": {},
   "source": [
    "## Predictive analysis; I think Michael's is much better!"
   ]
  },
  {
   "cell_type": "code",
   "execution_count": null,
   "metadata": {
    "collapsed": false
   },
   "outputs": [],
   "source": [
    "vectorizer = CountVectorizer(max_features=20000, min_df=25, ngram_range=(1,1), binary=True, stop_words=stop_words)\n",
    "X = vectorizer.fit_transform(texts)\n",
    "y = sexes\n",
    "param_grid = {\"C\":[.01, .1, 1]}\n",
    "clf = GridSearchCV(LogisticRegression(), param_grid=param_grid, scoring=\"f1_macro\")"
   ]
  },
  {
   "cell_type": "code",
   "execution_count": null,
   "metadata": {
    "collapsed": false
   },
   "outputs": [],
   "source": [
    "clf.fit(X,y)"
   ]
  },
  {
   "cell_type": "code",
   "execution_count": null,
   "metadata": {
    "collapsed": false
   },
   "outputs": [],
   "source": [
    "clf.best_score_"
   ]
  },
  {
   "cell_type": "code",
   "execution_count": null,
   "metadata": {
    "collapsed": false
   },
   "outputs": [],
   "source": [
    "def show_most_informative_features(vectorizer, clf, n=50):\n",
    "    feature_names = vectorizer.get_feature_names()\n",
    "    coefs_with_fns = sorted(zip(clf.coef_[0], feature_names))\n",
    "    top = zip(coefs_with_fns[:n], coefs_with_fns[:-(n + 1):-1])\n",
    "    for (coef_1, fn_1), (coef_2, fn_2) in top:\n",
    "        print (\"\\t%.4f\\t%-15s\\t\\t%.4f\\t%-15s\" % (coef_1, fn_1, coef_2, fn_2))"
   ]
  },
  {
   "cell_type": "code",
   "execution_count": null,
   "metadata": {
    "collapsed": false
   },
   "outputs": [],
   "source": [
    "show_most_informative_features(vectorizer, clf.best_estimator_, n=100)"
   ]
  },
  {
   "cell_type": "code",
   "execution_count": null,
   "metadata": {
    "collapsed": true
   },
   "outputs": [],
   "source": []
  }
 ],
 "metadata": {
  "kernelspec": {
   "display_name": "Python 3",
   "language": "python",
   "name": "python3"
  },
  "language_info": {
   "codemirror_mode": {
    "name": "ipython",
    "version": 3
   },
   "file_extension": ".py",
   "mimetype": "text/x-python",
   "name": "python",
   "nbconvert_exporter": "python",
   "pygments_lexer": "ipython3",
   "version": "3.4.4"
  }
 },
 "nbformat": 4,
 "nbformat_minor": 0
}
