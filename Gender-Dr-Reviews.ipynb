{
 "cells": [
  {
   "cell_type": "code",
   "execution_count": 90,
   "metadata": {
    "collapsed": false
   },
   "outputs": [],
   "source": [
    "import os\n",
    "import pandas as pd\n",
    "import sklearn\n",
    "from sklearn.feature_extraction.text import CountVectorizer  \n",
    "from sklearn.model_selection import GridSearchCV\n",
    "from sklearn.linear_model import LogisticRegression"
   ]
  },
  {
   "cell_type": "code",
   "execution_count": 100,
   "metadata": {
    "collapsed": false
   },
   "outputs": [
    {
     "data": {
      "text/plain": [
       "(53401, 11)"
      ]
     },
     "execution_count": 100,
     "metadata": {},
     "output_type": "execute_result"
    }
   ],
   "source": [
    "merged = pd.read_csv(\"merged_with_gender.tsv\", delimiter=\"\\t\")\n",
    "# filter out examples where we failed to infer gender\n",
    "genders = ['male', 'female']\n",
    "df_filtered = merged[merged['gender'].isin(genders)]\n",
    "df_filtered.shape"
   ]
  },
  {
   "cell_type": "markdown",
   "metadata": {},
   "source": [
    "Stolen from stanford people: https://raw.githubusercontent.com/stanfordnlp/CoreNLP/master/data/edu/stanford/nlp/patterns/surface/stopwords.txt"
   ]
  },
  {
   "cell_type": "code",
   "execution_count": 101,
   "metadata": {
    "collapsed": false
   },
   "outputs": [
    {
     "data": {
      "text/plain": [
       "['!!', '?!', '??', '!?', '`', '``', \"''\", '-lrb-', '-rrb-', '-lsb-']"
      ]
     },
     "execution_count": 101,
     "metadata": {},
     "output_type": "execute_result"
    }
   ],
   "source": [
    "stop_words = [w.strip() for w in open(\"stopwords.txt\").readlines()]\n",
    "stop_words[:10]"
   ]
  },
  {
   "cell_type": "markdown",
   "metadata": {},
   "source": [
    "Let's remove gender pronouns since these aren't terribly interesting as predictors"
   ]
  },
  {
   "cell_type": "code",
   "execution_count": 118,
   "metadata": {
    "collapsed": false
   },
   "outputs": [],
   "source": [
    "gender_pronouns = [\"she\", \"her\", \"hers\", \"his\", \"he\", \"guy\", \"she's\", \"he's\", \"commentshe\", \"commentsshe\", \"man\", \"woman\"]\n",
    "stop_words.extend(gender_pronouns)"
   ]
  },
  {
   "cell_type": "markdown",
   "metadata": {},
   "source": [
    "Merge reviews for individual doctors (we have multiple reviews for each!)"
   ]
  },
  {
   "cell_type": "code",
   "execution_count": 105,
   "metadata": {
    "collapsed": false
   },
   "outputs": [],
   "source": [
    "unique_drs = df_filtered[\"dr-id\"].unique()\n",
    "unique_drs.shape\n",
    "grouped = df_filtered.groupby('dr-id')\n",
    "texts, sexes = [], []\n",
    "for i, dr in grouped:\n",
    "    cur_text = \" \".join(dr['review-text'].values)\n",
    "    texts.append(cur_text)\n",
    "    cur_sex = dr[\"gender\"].values[0]\n",
    "    sexes.append(cur_sex)"
   ]
  },
  {
   "cell_type": "code",
   "execution_count": 110,
   "metadata": {
    "collapsed": false
   },
   "outputs": [
    {
     "data": {
      "text/plain": [
       "16488"
      ]
     },
     "execution_count": 110,
     "metadata": {},
     "output_type": "execute_result"
    }
   ],
   "source": [
    "len(texts)"
   ]
  },
  {
   "cell_type": "markdown",
   "metadata": {},
   "source": [
    "How many females v males?"
   ]
  },
  {
   "cell_type": "code",
   "execution_count": 109,
   "metadata": {
    "collapsed": false
   },
   "outputs": [
    {
     "data": {
      "text/plain": [
       "0.7172489082969432"
      ]
     },
     "execution_count": 109,
     "metadata": {},
     "output_type": "execute_result"
    }
   ],
   "source": [
    "sexes.count(\"male\")/float(len(sexes))"
   ]
  },
  {
   "cell_type": "markdown",
   "metadata": {},
   "source": [
    "So about 72% male"
   ]
  },
  {
   "cell_type": "code",
   "execution_count": 121,
   "metadata": {
    "collapsed": false
   },
   "outputs": [],
   "source": [
    "vectorizer = CountVectorizer(max_features=20000, min_df=5, ngram_range=(1,1), binary=True, stop_words=stop_words)\n",
    "X = vectorizer.fit_transform(texts)\n",
    "y = sexes"
   ]
  },
  {
   "cell_type": "markdown",
   "metadata": {},
   "source": [
    "Note; should probably pull out and pool reviews for physicians -- here we treat individual reviews for the same physician as multiple / independent instances"
   ]
  },
  {
   "cell_type": "code",
   "execution_count": 138,
   "metadata": {
    "collapsed": false
   },
   "outputs": [],
   "source": [
    "param_grid = {\"C\":[.01, .1, 1]}\n",
    "clf = GridSearchCV(LogisticRegression(), param_grid=param_grid, scoring=\"f1_macro\")"
   ]
  },
  {
   "cell_type": "code",
   "execution_count": 139,
   "metadata": {
    "collapsed": false
   },
   "outputs": [
    {
     "data": {
      "text/plain": [
       "GridSearchCV(cv=None, error_score='raise',\n",
       "       estimator=LogisticRegression(C=1.0, class_weight=None, dual=False, fit_intercept=True,\n",
       "          intercept_scaling=1, max_iter=100, multi_class='ovr', n_jobs=1,\n",
       "          penalty='l2', random_state=None, solver='liblinear', tol=0.0001,\n",
       "          verbose=0, warm_start=False),\n",
       "       fit_params={}, iid=True, n_jobs=1, param_grid={'C': [0.01, 0.1, 1]},\n",
       "       pre_dispatch='2*n_jobs', refit=True, return_train_score=True,\n",
       "       scoring='f1_macro', verbose=0)"
      ]
     },
     "execution_count": 139,
     "metadata": {},
     "output_type": "execute_result"
    }
   ],
   "source": [
    "clf.fit(X,y)"
   ]
  },
  {
   "cell_type": "code",
   "execution_count": 140,
   "metadata": {
    "collapsed": false
   },
   "outputs": [
    {
     "data": {
      "text/plain": [
       "0.54585116023791591"
      ]
     },
     "execution_count": 140,
     "metadata": {},
     "output_type": "execute_result"
    }
   ],
   "source": [
    "clf.best_score_"
   ]
  },
  {
   "cell_type": "code",
   "execution_count": 141,
   "metadata": {
    "collapsed": false
   },
   "outputs": [],
   "source": [
    "def show_most_informative_features(vectorizer, clf, n=50):\n",
    "    feature_names = vectorizer.get_feature_names()\n",
    "    coefs_with_fns = sorted(zip(clf.coef_[0], feature_names))\n",
    "    top = zip(coefs_with_fns[:n], coefs_with_fns[:-(n + 1):-1])\n",
    "    for (coef_1, fn_1), (coef_2, fn_2) in top:\n",
    "        print (\"\\t%.4f\\t%-15s\\t\\t%.4f\\t%-15s\" % (coef_1, fn_1, coef_2, fn_2))"
   ]
  },
  {
   "cell_type": "code",
   "execution_count": 142,
   "metadata": {
    "collapsed": false
   },
   "outputs": [
    {
     "name": "stdout",
     "output_type": "stream",
     "text": [
      "\t-1.9652\tmurray         \t\t1.7321\tvague          \n",
      "\t-1.8244\tdaiza          \t\t1.6401\tjerk           \n",
      "\t-1.7288\tmary           \t\t1.6075\thaber          \n",
      "\t-1.6664\tnewman         \t\t1.4948\tcocky          \n",
      "\t-1.6497\terland         \t\t1.4261\tprostate       \n",
      "\t-1.6487\tinpatient      \t\t1.4230\tadjusting      \n",
      "\t-1.6454\tfahmi          \t\t1.4014\tdecker         \n",
      "\t-1.6308\tlanna          \t\t1.3903\tjohn           \n",
      "\t-1.6146\teclampsia      \t\t1.3657\tcharles        \n",
      "\t-1.6016\trita           \t\t1.3581\tforseter       \n",
      "\t-1.5974\tbarber         \t\t1.3566\tintroduce      \n",
      "\t-1.5827\tfauzia         \t\t1.3365\tzager          \n",
      "\t-1.5634\tgallo          \t\t1.3307\tendoscopy      \n",
      "\t-1.5625\tnahra          \t\t1.3165\tabruptly       \n",
      "\t-1.5536\tnakra          \t\t1.3041\tcovering       \n",
      "\t-1.5406\texperince      \t\t1.3017\tpursue         \n",
      "\t-1.5388\tjahan          \t\t1.2946\tvalley         \n",
      "\t-1.5385\tuninformed     \t\t1.2935\tplaying        \n",
      "\t-1.5242\tincorrect      \t\t1.2840\t2x             \n",
      "\t-1.5107\tmanors         \t\t1.2706\tagitated       \n",
      "\t-1.4792\tpeggy          \t\t1.2683\tbleed          \n",
      "\t-1.4763\tseemingly      \t\t1.2674\trichard        \n",
      "\t-1.4469\tparalyzed      \t\t1.2581\treleasing      \n",
      "\t-1.4204\tviera          \t\t1.2402\tneedles        \n",
      "\t-1.4157\tpicco          \t\t1.2326\thaddad         \n",
      "\t-1.4106\treference      \t\t1.2309\tload           \n",
      "\t-1.4087\tgaba           \t\t1.2304\tmiller         \n",
      "\t-1.4044\tcabey          \t\t1.2256\tunderstaffed   \n",
      "\t-1.4019\tsh             \t\t1.2255\treleased       \n",
      "\t-1.3956\ta1c            \t\t1.2202\tperiodontist   \n",
      "\t-1.3924\tucla           \t\t1.2189\tthankfully     \n",
      "\t-1.3902\tnewton         \t\t1.2170\twatts          \n",
      "\t-1.3816\tfelluca        \t\t1.2161\tpeter          \n",
      "\t-1.3744\tmails          \t\t1.2124\taccurately     \n",
      "\t-1.3704\tdermatology    \t\t1.2083\tpass           \n",
      "\t-1.3672\tjudgmental     \t\t1.2034\tchronically    \n",
      "\t-1.3667\tcarr           \t\t1.2029\tadelman        \n",
      "\t-1.3656\tbadalaty       \t\t1.1974\tincident       \n",
      "\t-1.3560\tsour           \t\t1.1970\tupfront        \n",
      "\t-1.3524\tdoherty        \t\t1.1934\tdelaware       \n",
      "\t-1.3469\tsusan          \t\t1.1920\tcanceled       \n",
      "\t-1.3438\tdoe            \t\t1.1882\tmabey          \n",
      "\t-1.3415\tscientific     \t\t1.1757\tquinn          \n",
      "\t-1.3357\targued         \t\t1.1704\twatabe         \n",
      "\t-1.3335\tragland        \t\t1.1704\tarrogant       \n",
      "\t-1.3206\tunknowledgeable\t\t1.1595\tparticipation  \n",
      "\t-1.3201\tlamotte        \t\t1.1582\tretire         \n",
      "\t-1.3177\tbaldwin        \t\t1.1560\taches          \n",
      "\t-1.3168\tprocesses      \t\t1.1521\tcompares       \n",
      "\t-1.3157\tmadfes         \t\t1.1459\trelaxers       \n",
      "\t-1.3143\tpolacek        \t\t1.1432\tapproached     \n",
      "\t-1.3031\tcommitment     \t\t1.1348\tlap            \n",
      "\t-1.3026\tvagotis        \t\t1.1342\tallen          \n",
      "\t-1.3001\tweatherford    \t\t1.1263\tmotrin         \n",
      "\t-1.2991\tinducing       \t\t1.1184\tseason         \n",
      "\t-1.2972\tsweetest       \t\t1.1157\tprecious       \n",
      "\t-1.2963\tincompetence   \t\t1.1156\tsuperior       \n",
      "\t-1.2915\tcredentials    \t\t1.1155\tepisode        \n",
      "\t-1.2904\tsamuels        \t\t1.1136\tfaxing         \n",
      "\t-1.2890\tdantin         \t\t1.1134\tunexpectedly   \n",
      "\t-1.2889\tcounting       \t\t1.1112\tlicense        \n",
      "\t-1.2853\tcommunicative  \t\t1.1007\tlawyer         \n",
      "\t-1.2826\t1500           \t\t1.0999\tvalle          \n",
      "\t-1.2824\tstare          \t\t1.0912\tdownfall       \n",
      "\t-1.2776\tinsurances     \t\t1.0894\tfolks          \n",
      "\t-1.2751\tsuicide        \t\t1.0889\tnick           \n",
      "\t-1.2749\tdeficiency     \t\t1.0877\tlectures       \n",
      "\t-1.2744\tjahagirdar     \t\t1.0866\tdeaf           \n",
      "\t-1.2705\tyee            \t\t1.0801\tpenkala        \n",
      "\t-1.2662\tkanter         \t\t1.0746\tleaking        \n",
      "\t-1.2662\tdeaver         \t\t1.0743\twrapped        \n",
      "\t-1.2547\tcompensation   \t\t1.0736\tkatz           \n",
      "\t-1.2541\trebecca        \t\t1.0726\topposite       \n",
      "\t-1.2507\tgonna          \t\t1.0725\tpound          \n",
      "\t-1.2479\tadler          \t\t1.0650\thero           \n",
      "\t-1.2461\texpenses       \t\t1.0627\tdelived        \n",
      "\t-1.2423\ttech           \t\t1.0580\tunbearable     \n",
      "\t-1.2400\tkay            \t\t1.0555\tdaniels        \n",
      "\t-1.2356\tjacob          \t\t1.0553\thepatitis      \n",
      "\t-1.2329\tgalen          \t\t1.0548\tobtained       \n",
      "\t-1.2275\trose           \t\t1.0529\tmethadone      \n",
      "\t-1.2267\tjabaji         \t\t1.0503\tsold           \n",
      "\t-1.2163\tdreading       \t\t1.0499\treviewing      \n",
      "\t-1.2073\tagustin        \t\t1.0472\treachable      \n",
      "\t-1.2027\tabarikwu       \t\t1.0455\timplant        \n",
      "\t-1.1960\tparenting      \t\t1.0432\tpresentation   \n",
      "\t-1.1946\tofficer        \t\t1.0421\trheumatologists\n",
      "\t-1.1916\thelpless       \t\t1.0414\tjokes          \n",
      "\t-1.1908\tpartum         \t\t1.0398\tchiro          \n",
      "\t-1.1895\twirths         \t\t1.0371\tprayer         \n",
      "\t-1.1873\tlimit          \t\t1.0331\tpulling        \n",
      "\t-1.1866\tlid            \t\t1.0299\tnotified       \n",
      "\t-1.1828\tstones         \t\t1.0284\tearliest       \n",
      "\t-1.1813\tproducts       \t\t1.0283\tpsychiatrists  \n",
      "\t-1.1746\ttechnologically\t\t1.0277\tmassive        \n",
      "\t-1.1728\tsubjects       \t\t1.0276\tshorter        \n",
      "\t-1.1713\twendy          \t\t1.0261\tpregnancies    \n",
      "\t-1.1707\tectopic        \t\t1.0244\tunsympathetic  \n",
      "\t-1.1638\taccusatory     \t\t1.0244\tmontgomery     \n",
      "\t-1.1627\thampton        \t\t1.0239\tdrill          \n"
     ]
    }
   ],
   "source": [
    "show_most_informative_features(vectorizer, clf.best_estimator_, n=100)"
   ]
  },
  {
   "cell_type": "code",
   "execution_count": null,
   "metadata": {
    "collapsed": true
   },
   "outputs": [],
   "source": []
  }
 ],
 "metadata": {
  "kernelspec": {
   "display_name": "Python 3",
   "language": "python",
   "name": "python3"
  },
  "language_info": {
   "codemirror_mode": {
    "name": "ipython",
    "version": 3
   },
   "file_extension": ".py",
   "mimetype": "text/x-python",
   "name": "python",
   "nbconvert_exporter": "python",
   "pygments_lexer": "ipython3",
   "version": "3.4.4"
  }
 },
 "nbformat": 4,
 "nbformat_minor": 0
}
