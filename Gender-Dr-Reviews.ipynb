{
 "cells": [
  {
   "cell_type": "code",
   "execution_count": 7,
   "metadata": {
    "collapsed": false
   },
   "outputs": [],
   "source": [
    "import os\n",
    "import pandas as pd\n",
    "import sklearn\n",
    "from sklearn.feature_extraction.text import CountVectorizer  \n",
    "from sklearn.model_selection import GridSearchCV\n",
    "from sklearn.linear_model import LogisticRegression"
   ]
  },
  {
   "cell_type": "code",
   "execution_count": 8,
   "metadata": {
    "collapsed": false
   },
   "outputs": [
    {
     "data": {
      "text/plain": [
       "(53401, 11)"
      ]
     },
     "execution_count": 8,
     "metadata": {},
     "output_type": "execute_result"
    }
   ],
   "source": [
    "merged = pd.read_csv(\"merged_with_gender.tsv\", delimiter=\"\\t\")\n",
    "# filter out examples where we failed to infer gender\n",
    "genders = ['male', 'female']\n",
    "df_filtered = merged[merged['gender'].isin(genders)]\n",
    "df_filtered.shape"
   ]
  },
  {
   "cell_type": "markdown",
   "metadata": {},
   "source": [
    "How many females v males?"
   ]
  },
  {
   "cell_type": "code",
   "execution_count": 9,
   "metadata": {
    "collapsed": false
   },
   "outputs": [
    {
     "data": {
      "text/plain": [
       "count     53401\n",
       "unique        2\n",
       "top        male\n",
       "freq      38272\n",
       "Name: gender, dtype: object"
      ]
     },
     "execution_count": 9,
     "metadata": {},
     "output_type": "execute_result"
    }
   ],
   "source": [
    "df_filtered[\"gender\"].describe()"
   ]
  },
  {
   "cell_type": "markdown",
   "metadata": {},
   "source": [
    "So about 72% male"
   ]
  },
  {
   "cell_type": "code",
   "execution_count": 41,
   "metadata": {
    "collapsed": false
   },
   "outputs": [],
   "source": [
    "vectorizer = CountVectorizer(max_features=20000, min_df=5, ngram_range=(1, 2), binary=True)\n",
    "X = vectorizer.fit_transform(df_filtered[\"review-text\"])\n",
    "y = df_filtered[\"gender\"]"
   ]
  },
  {
   "cell_type": "markdown",
   "metadata": {},
   "source": [
    "Note; should probably pull out and pool reviews for physicians -- here we treat individual reviews for the same physician as multiple / independent instances"
   ]
  },
  {
   "cell_type": "code",
   "execution_count": 42,
   "metadata": {
    "collapsed": false
   },
   "outputs": [],
   "source": [
    "param_grid = {\"C\":[.01, .1, 1, 10, 100]}\n",
    "clf = GridSearchCV(LogisticRegression(), param_grid=param_grid, scoring=\"f1_macro\")"
   ]
  },
  {
   "cell_type": "code",
   "execution_count": 43,
   "metadata": {
    "collapsed": false
   },
   "outputs": [
    {
     "data": {
      "text/plain": [
       "GridSearchCV(cv=None, error_score='raise',\n",
       "       estimator=LogisticRegression(C=1.0, class_weight=None, dual=False, fit_intercept=True,\n",
       "          intercept_scaling=1, max_iter=100, multi_class='ovr', n_jobs=1,\n",
       "          penalty='l2', random_state=None, solver='liblinear', tol=0.0001,\n",
       "          verbose=0, warm_start=False),\n",
       "       fit_params={}, iid=True, n_jobs=1,\n",
       "       param_grid={'C': [0.01, 0.1, 1, 10, 100]}, pre_dispatch='2*n_jobs',\n",
       "       refit=True, return_train_score=True, scoring='f1_macro', verbose=0)"
      ]
     },
     "execution_count": 43,
     "metadata": {},
     "output_type": "execute_result"
    }
   ],
   "source": [
    "clf.fit(X,y)"
   ]
  },
  {
   "cell_type": "code",
   "execution_count": 44,
   "metadata": {
    "collapsed": false
   },
   "outputs": [
    {
     "data": {
      "text/plain": [
       "0.92289133147666569"
      ]
     },
     "execution_count": 44,
     "metadata": {},
     "output_type": "execute_result"
    }
   ],
   "source": [
    "clf.best_score_"
   ]
  },
  {
   "cell_type": "code",
   "execution_count": 45,
   "metadata": {
    "collapsed": false
   },
   "outputs": [],
   "source": [
    "def show_most_informative_features(vectorizer, clf, n=50):\n",
    "    feature_names = vectorizer.get_feature_names()\n",
    "    coefs_with_fns = sorted(zip(clf.coef_[0], feature_names))\n",
    "    top = zip(coefs_with_fns[:n], coefs_with_fns[:-(n + 1):-1])\n",
    "    for (coef_1, fn_1), (coef_2, fn_2) in top:\n",
    "        print (\"\\t%.4f\\t%-15s\\t\\t%.4f\\t%-15s\" % (coef_1, fn_1, coef_2, fn_2))"
   ]
  },
  {
   "cell_type": "code",
   "execution_count": 47,
   "metadata": {
    "collapsed": false
   },
   "outputs": [
    {
     "name": "stdout",
     "output_type": "stream",
     "text": [
      "\t-2.3243\tshe            \t\t2.5000\the             \n",
      "\t-1.9253\ther            \t\t1.7128\this            \n",
      "\t-0.6667\tshe is         \t\t1.4590\thim            \n",
      "\t-0.4463\ther staff      \t\t0.6649\the is          \n",
      "\t-0.3860\trecommend her  \t\t0.4184\tsurgery        \n",
      "\t-0.3342\tcommentsshe    \t\t0.4008\this staff      \n",
      "\t-0.2895\ther office     \t\t0.3343\tman            \n",
      "\t-0.2886\tand her        \t\t0.3343\trecommend him  \n",
      "\t-0.2843\ther patients   \t\t0.3161\tand his        \n",
      "\t-0.2538\tshe has        \t\t0.3059\tguy            \n",
      "\t-0.2377\therself        \t\t0.2895\tto him         \n",
      "\t-0.2009\tdoctor she     \t\t0.2655\tmother         \n",
      "\t-0.1984\tsee her        \t\t0.2487\the has         \n",
      "\t-0.1896\tto her         \t\t0.2480\this patients   \n",
      "\t-0.1837\ther to         \t\t0.2474\the was         \n",
      "\t-0.1807\tshe did        \t\t0.2427\thim to         \n",
      "\t-0.1666\tshe was        \t\t0.2324\tpain           \n",
      "\t-0.1549\twith her       \t\t0.2266\tdaughter       \n",
      "\t-0.1529\tmy son         \t\t0.2164\this office     \n",
      "\t-0.1512\ther for        \t\t0.2133\tcommentshe     \n",
      "\t-0.1449\tpractice       \t\t0.2123\tsurgeon        \n",
      "\t-0.1408\tson            \t\t0.1965\twife           \n",
      "\t-0.1365\tgyn            \t\t0.1909\thimself        \n",
      "\t-0.1312\tabout her      \t\t0.1905\tmy mother      \n",
      "\t-0.1270\tlove her       \t\t0.1901\tand he         \n",
      "\t-0.1261\tcommentsshe is \t\t0.1872\tshe had        \n",
      "\t-0.1258\tconcerns       \t\t0.1783\the did         \n",
      "\t-0.1194\tshe listens    \t\t0.1667\tarrogant       \n",
      "\t-0.1191\tbut she        \t\t0.1667\thim for        \n",
      "\t-0.1168\ther time       \t\t0.1654\tmy daughter    \n",
      "\t-0.1165\tcaring         \t\t0.1543\tgood           \n",
      "\t-0.1149\thealth         \t\t0.1535\ttold her       \n",
      "\t-0.1139\tnew            \t\t0.1470\treceptionist   \n",
      "\t-0.1124\ther nurse      \t\t0.1446\tgreat          \n",
      "\t-0.1122\tshe told       \t\t0.1388\this nurse      \n",
      "\t-0.1112\tpoor           \t\t0.1368\tsee him        \n",
      "\t-0.1107\ther as         \t\t0.1327\tof his         \n",
      "\t-0.1103\tfound her      \t\t0.1304\tthere          \n",
      "\t-0.1088\tis             \t\t0.1295\tthis man       \n",
      "\t-0.1065\tshe will       \t\t0.1265\texcellent      \n",
      "\t-0.1064\tworst          \t\t0.1255\tbut he         \n",
      "\t-0.1056\tshe takes      \t\t0.1208\thas            \n",
      "\t-0.1054\tand she        \t\t0.1187\tassistant      \n",
      "\t-0.1037\trather         \t\t0.1166\tthis guy       \n",
      "\t-0.1034\tfinally        \t\t0.1166\twith him       \n",
      "\t-0.1024\tme             \t\t0.1158\tprocedure      \n",
      "\t-0.1016\tanother doctor \t\t0.1152\tstaff          \n",
      "\t-0.1012\tcold           \t\t0.1139\told            \n",
      "\t-0.1011\tshe does       \t\t0.1139\tgirl           \n",
      "\t-0.1005\tshe also       \t\t0.1127\tquot           \n",
      "\t-0.1004\trecommended    \t\t0.1119\the does        \n",
      "\t-0.1000\tshe really     \t\t0.1089\tgot            \n",
      "\t-0.0992\tnot recommend  \t\t0.1086\the told        \n",
      "\t-0.0975\tdelivery       \t\t0.1080\twhen she       \n",
      "\t-0.0969\tin her         \t\t0.1077\tdoctor he      \n",
      "\t-0.0963\tthat she       \t\t0.1069\tvery good      \n",
      "\t-0.0959\tvery thorough  \t\t0.1063\tcourteous      \n",
      "\t-0.0959\tcan            \t\t0.1038\tknee           \n",
      "\t-0.0955\tshe doesn      \t\t0.1021\tmy wife        \n",
      "\t-0.0910\tfrom the       \t\t0.1021\tthat he        \n",
      "\t-0.0904\tdoctor that    \t\t0.1014\tdesk           \n",
      "\t-0.0889\tway            \t\t0.0991\tmoney          \n",
      "\t-0.0877\tob gyn         \t\t0.0987\tmanager        \n",
      "\t-0.0873\tkids           \t\t0.0985\the didn        \n",
      "\t-0.0870\tpregnant       \t\t0.0985\tbut his        \n",
      "\t-0.0867\tdoctors        \t\t0.0967\tin his         \n",
      "\t-0.0852\tand            \t\t0.0962\the would       \n",
      "\t-0.0851\twait           \t\t0.0954\texplained      \n",
      "\t-0.0846\tshe made       \t\t0.0946\treal           \n",
      "\t-0.0844\tthis woman     \t\t0.0945\tbest           \n",
      "\t-0.0843\tto another     \t\t0.0939\tenough         \n",
      "\t-0.0842\tannual         \t\t0.0932\twhat he        \n",
      "\t-0.0840\twas not        \t\t0.0925\tproblem        \n",
      "\t-0.0838\tof our         \t\t0.0915\tit is          \n",
      "\t-0.0838\tperson         \t\t0.0914\tagain          \n",
      "\t-0.0836\tmy child       \t\t0.0905\tto his         \n",
      "\t-0.0833\ther care       \t\t0.0901\the will        \n",
      "\t-0.0832\tthat had       \t\t0.0874\tcomments       \n",
      "\t-0.0816\tthis practice  \t\t0.0867\twork           \n",
      "\t-0.0815\tmedication     \t\t0.0864\tharper         \n",
      "\t-0.0810\tprescription   \t\t0.0863\tdr harper      \n",
      "\t-0.0802\tyears she      \t\t0.0862\tyear old       \n",
      "\t-0.0800\twish           \t\t0.0859\tand staff      \n",
      "\t-0.0788\tbe seen        \t\t0.0856\this time       \n",
      "\t-0.0786\tmy doctor      \t\t0.0856\the said        \n",
      "\t-0.0782\tfor an         \t\t0.0850\tfront desk     \n",
      "\t-0.0779\tsick           \t\t0.0850\twith his       \n",
      "\t-0.0776\tdefinitely     \t\t0.0848\trun            \n",
      "\t-0.0776\tob             \t\t0.0845\tthe front      \n",
      "\t-0.0774\tdon            \t\t0.0843\thappy with     \n",
      "\t-0.0774\tknows her      \t\t0.0841\tthe receptionist\n",
      "\t-0.0773\tminutes        \t\t0.0836\the never       \n",
      "\t-0.0773\tnon            \t\t0.0833\tsister         \n",
      "\t-0.0759\tservice        \t\t0.0830\tand all        \n",
      "\t-0.0759\tthere is       \t\t0.0824\toutstanding    \n",
      "\t-0.0757\twonderful      \t\t0.0821\tdr and         \n",
      "\t-0.0756\tchild          \t\t0.0817\ttell you       \n",
      "\t-0.0756\tpregnancy      \t\t0.0816\tnose           \n",
      "\t-0.0756\ttest results   \t\t0.0816\tsaying         \n",
      "\t-0.0754\tshe gave       \t\t0.0814\tthe surgery    \n"
     ]
    }
   ],
   "source": [
    "show_most_informative_features(vectorizer, clf.best_estimator_, n=100)"
   ]
  },
  {
   "cell_type": "code",
   "execution_count": null,
   "metadata": {
    "collapsed": true
   },
   "outputs": [],
   "source": []
  }
 ],
 "metadata": {
  "kernelspec": {
   "display_name": "Python 3",
   "language": "python",
   "name": "python3"
  },
  "language_info": {
   "codemirror_mode": {
    "name": "ipython",
    "version": 3
   },
   "file_extension": ".py",
   "mimetype": "text/x-python",
   "name": "python",
   "nbconvert_exporter": "python",
   "pygments_lexer": "ipython3",
   "version": "3.4.4"
  }
 },
 "nbformat": 4,
 "nbformat_minor": 0
}
