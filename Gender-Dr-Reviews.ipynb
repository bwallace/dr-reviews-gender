{
 "cells": [
  {
   "cell_type": "code",
   "execution_count": 7,
   "metadata": {
    "collapsed": false
   },
   "outputs": [],
   "source": [
    "import os\n",
    "import pandas as pd\n",
    "import sklearn\n",
    "from sklearn.feature_extraction.text import CountVectorizer  \n",
    "from sklearn.model_selection import GridSearchCV\n",
    "from sklearn.linear_model import LogisticRegression"
   ]
  },
  {
   "cell_type": "code",
   "execution_count": 8,
   "metadata": {
    "collapsed": false
   },
   "outputs": [
    {
     "data": {
      "text/plain": [
       "(53401, 11)"
      ]
     },
     "execution_count": 8,
     "metadata": {},
     "output_type": "execute_result"
    }
   ],
   "source": [
    "merged = pd.read_csv(\"merged_with_gender.tsv\", delimiter=\"\\t\")\n",
    "# filter out examples where we failed to infer gender\n",
    "genders = ['male', 'female']\n",
    "df_filtered = merged[merged['gender'].isin(genders)]\n",
    "df_filtered.shape"
   ]
  },
  {
   "cell_type": "markdown",
   "metadata": {},
   "source": [
    "Stolen from stanford people: https://raw.githubusercontent.com/stanfordnlp/CoreNLP/master/data/edu/stanford/nlp/patterns/surface/stopwords.txt"
   ]
  },
  {
   "cell_type": "code",
   "execution_count": 56,
   "metadata": {
    "collapsed": false
   },
   "outputs": [
    {
     "data": {
      "text/plain": [
       "['!!', '?!', '??', '!?', '`', '``', \"''\", '-lrb-', '-rrb-', '-lsb-']"
      ]
     },
     "execution_count": 56,
     "metadata": {},
     "output_type": "execute_result"
    }
   ],
   "source": [
    "stop_words = [w.strip() for w in open(\"stopwords.txt\").readlines()]\n",
    "stop_words[:10]"
   ]
  },
  {
   "cell_type": "markdown",
   "metadata": {},
   "source": [
    "Let's remove gender pronouns since these aren't terribly interesting as predictors"
   ]
  },
  {
   "cell_type": "code",
   "execution_count": 74,
   "metadata": {
    "collapsed": false
   },
   "outputs": [],
   "source": [
    "gender_pronouns = [\"she\", \"her\", \"hers\", \"his\", \"he\", \"guy\", \"she's\", \"he's\", \"commentshe\", \"man\", \"woman\"]\n",
    "stop_words.extend(gender_pronouns)"
   ]
  },
  {
   "cell_type": "markdown",
   "metadata": {},
   "source": [
    "How many females v males?"
   ]
  },
  {
   "cell_type": "code",
   "execution_count": 75,
   "metadata": {
    "collapsed": false
   },
   "outputs": [
    {
     "data": {
      "text/plain": [
       "count     53401\n",
       "unique        2\n",
       "top        male\n",
       "freq      38272\n",
       "Name: gender, dtype: object"
      ]
     },
     "execution_count": 75,
     "metadata": {},
     "output_type": "execute_result"
    }
   ],
   "source": [
    "df_filtered[\"gender\"].describe()"
   ]
  },
  {
   "cell_type": "markdown",
   "metadata": {},
   "source": [
    "So about 72% male"
   ]
  },
  {
   "cell_type": "code",
   "execution_count": 76,
   "metadata": {
    "collapsed": false
   },
   "outputs": [],
   "source": [
    "vectorizer = CountVectorizer(max_features=20000, min_df=5, ngram_range=(1, 2), binary=True, stop_words=stop_words)\n",
    "X = vectorizer.fit_transform(df_filtered[\"review-text\"])\n",
    "y = df_filtered[\"gender\"]"
   ]
  },
  {
   "cell_type": "markdown",
   "metadata": {},
   "source": [
    "Note; should probably pull out and pool reviews for physicians -- here we treat individual reviews for the same physician as multiple / independent instances"
   ]
  },
  {
   "cell_type": "code",
   "execution_count": 77,
   "metadata": {
    "collapsed": false
   },
   "outputs": [],
   "source": [
    "param_grid = {\"C\":[.01, .1, 1, 10, 100]}\n",
    "clf = GridSearchCV(LogisticRegression(), param_grid=param_grid, scoring=\"f1_macro\")"
   ]
  },
  {
   "cell_type": "code",
   "execution_count": 78,
   "metadata": {
    "collapsed": false
   },
   "outputs": [
    {
     "data": {
      "text/plain": [
       "GridSearchCV(cv=None, error_score='raise',\n",
       "       estimator=LogisticRegression(C=1.0, class_weight=None, dual=False, fit_intercept=True,\n",
       "          intercept_scaling=1, max_iter=100, multi_class='ovr', n_jobs=1,\n",
       "          penalty='l2', random_state=None, solver='liblinear', tol=0.0001,\n",
       "          verbose=0, warm_start=False),\n",
       "       fit_params={}, iid=True, n_jobs=1,\n",
       "       param_grid={'C': [0.01, 0.1, 1, 10, 100]}, pre_dispatch='2*n_jobs',\n",
       "       refit=True, return_train_score=True, scoring='f1_macro', verbose=0)"
      ]
     },
     "execution_count": 78,
     "metadata": {},
     "output_type": "execute_result"
    }
   ],
   "source": [
    "clf.fit(X,y)"
   ]
  },
  {
   "cell_type": "code",
   "execution_count": 79,
   "metadata": {
    "collapsed": false
   },
   "outputs": [
    {
     "data": {
      "text/plain": [
       "0.55358386284680705"
      ]
     },
     "execution_count": 79,
     "metadata": {},
     "output_type": "execute_result"
    }
   ],
   "source": [
    "clf.best_score_"
   ]
  },
  {
   "cell_type": "code",
   "execution_count": 80,
   "metadata": {
    "collapsed": false
   },
   "outputs": [],
   "source": [
    "def show_most_informative_features(vectorizer, clf, n=50):\n",
    "    feature_names = vectorizer.get_feature_names()\n",
    "    coefs_with_fns = sorted(zip(clf.coef_[0], feature_names))\n",
    "    top = zip(coefs_with_fns[:n], coefs_with_fns[:-(n + 1):-1])\n",
    "    for (coef_1, fn_1), (coef_2, fn_2) in top:\n",
    "        print (\"\\t%.4f\\t%-15s\\t\\t%.4f\\t%-15s\" % (coef_1, fn_1, coef_2, fn_2))"
   ]
  },
  {
   "cell_type": "code",
   "execution_count": 81,
   "metadata": {
    "collapsed": false
   },
   "outputs": [
    {
     "name": "stdout",
     "output_type": "stream",
     "text": [
      "\t-2.5306\tjahan          \t\t2.5473\tjerk           \n",
      "\t-2.4798\tvagotis        \t\t2.4087\tgentleman      \n",
      "\t-2.3883\tdaiza          \t\t1.8683\taccept insurance\n",
      "\t-2.2913\thaffner        \t\t1.8632\tknee           \n",
      "\t-2.2312\tdr samuels     \t\t1.7878\thime           \n",
      "\t-2.2303\tdr daiza       \t\t1.7630\tdavid          \n",
      "\t-2.1835\tabarikwu       \t\t1.7609\tparker         \n",
      "\t-2.1468\tconte          \t\t1.7358\tcommentshis    \n",
      "\t-2.1272\tfauzia         \t\t1.7199\tsee highly     \n",
      "\t-2.1002\tsusan          \t\t1.6786\tcalled schedule\n",
      "\t-2.0950\tmaclin         \t\t1.6593\tthompson       \n",
      "\t-2.0708\tanne           \t\t1.6528\tmassive        \n",
      "\t-2.0695\tzamora         \t\t1.6501\toffice appointment\n",
      "\t-2.0499\tfelluca        \t\t1.6422\tmay good       \n",
      "\t-2.0416\ttoole          \t\t1.6217\tmajor surgery  \n",
      "\t-2.0313\tbarber         \t\t1.6146\tarrogant       \n",
      "\t-1.9602\tdr lanna       \t\t1.5953\ttalk office    \n",
      "\t-1.9602\tlanna          \t\t1.5930\tcocky          \n",
      "\t-1.9494\tafr            \t\t1.5824\tforseter       \n",
      "\t-1.9429\tham            \t\t1.5730\tnance          \n",
      "\t-1.9369\tlamotte        \t\t1.5719\tdoesn talk     \n",
      "\t-1.9343\tmany medications\t\t1.5641\talways tries   \n",
      "\t-1.9313\tgerace         \t\t1.5629\tdr williams    \n",
      "\t-1.9030\tright foot     \t\t1.5511\tcharles        \n",
      "\t-1.8942\tdr yi          \t\t1.5404\thelpful amp    \n",
      "\t-1.8942\tyi             \t\t1.5312\tjeff           \n",
      "\t-1.8850\tviera          \t\t1.5290\ttimes first    \n",
      "\t-1.8580\tnice lady      \t\t1.5244\tone bit        \n",
      "\t-1.8427\tdoherty        \t\t1.5128\tprefers        \n",
      "\t-1.8152\twendy          \t\t1.5056\tpatients families\n",
      "\t-1.7960\tpicco          \t\t1.4740\tfeel special   \n",
      "\t-1.7692\tnew pediatrician\t\t1.4733\tmedical license\n",
      "\t-1.7439\theidi          \t\t1.4732\tjadali         \n",
      "\t-1.7416\tdr picco       \t\t1.4708\tvisit felt     \n",
      "\t-1.7390\tdr vagotis     \t\t1.4564\tdr nance       \n",
      "\t-1.7302\tdr fauzia      \t\t1.4533\tfilipescu      \n",
      "\t-1.7156\tgynecological  \t\t1.4493\tdays get       \n",
      "\t-1.7044\tdr gerace      \t\t1.4440\tnow new        \n",
      "\t-1.6675\tfodor          \t\t1.4416\tstaff work     \n",
      "\t-1.6606\tdr wirths      \t\t1.4368\thakimi         \n",
      "\t-1.6606\twirths         \t\t1.4342\tminutes later  \n",
      "\t-1.6566\tdr hamilton    \t\t1.4309\tworth trip     \n",
      "\t-1.6558\tdr mary        \t\t1.4278\tlike need      \n",
      "\t-1.6523\tcosmetic procedures\t\t1.4272\twent check     \n",
      "\t-1.6519\tcabaniss       \t\t1.4249\turologists     \n",
      "\t-1.6425\tdr cabaniss    \t\t1.4219\tjed            \n",
      "\t-1.6424\tdr amy         \t\t1.4217\tone never      \n",
      "\t-1.6374\tlady           \t\t1.4212\tkaplan         \n",
      "\t-1.6365\tdamore         \t\t1.4198\tdr filipescu   \n",
      "\t-1.6365\tdr damore      \t\t1.4198\tadelman        \n",
      "\t-1.6135\tcalled another \t\t1.4109\tquoted         \n",
      "\t-1.6055\tdr viera       \t\t1.4059\tswore          \n",
      "\t-1.5985\tprocesses      \t\t1.4042\tmanner recommend\n",
      "\t-1.5905\tdone research  \t\t1.4042\tacl            \n",
      "\t-1.5852\tdr frankel     \t\t1.4030\tbest way       \n",
      "\t-1.5852\tfrankel        \t\t1.4011\tcapone         \n",
      "\t-1.5798\tlaura          \t\t1.4006\tlecture        \n",
      "\t-1.5736\tchallenged     \t\t1.4005\tgabriel        \n",
      "\t-1.5703\tmaher          \t\t1.3990\trelative       \n",
      "\t-1.5658\tlacy           \t\t1.3978\tdr jadali      \n",
      "\t-1.5535\twanted money   \t\t1.3923\toffice environment\n",
      "\t-1.5529\twithout looking\t\t1.3892\talso best      \n",
      "\t-1.5521\tjabaji         \t\t1.3890\tstaff bad      \n",
      "\t-1.5459\tcallison       \t\t1.3885\tjust started   \n",
      "\t-1.5459\tdr callison    \t\t1.3878\tnash           \n",
      "\t-1.5439\tyears back     \t\t1.3864\tcreepy         \n",
      "\t-1.5386\tnew staff      \t\t1.3813\travin          \n",
      "\t-1.5358\tdoctor problem \t\t1.3801\tnew techniques \n",
      "\t-1.5263\talways gave    \t\t1.3796\tmale ob        \n",
      "\t-1.5224\tfirst name     \t\t1.3764\twatabe         \n",
      "\t-1.5204\tjennifer       \t\t1.3760\tdr perkins     \n",
      "\t-1.5175\tdr madfes      \t\t1.3738\tunderstaffed   \n",
      "\t-1.5175\tmadfes         \t\t1.3717\teverything us  \n",
      "\t-1.5173\tlater never    \t\t1.3694\tdr ward        \n",
      "\t-1.5085\tbeth           \t\t1.3693\toffice long    \n",
      "\t-1.5076\tleslie         \t\t1.3685\tuse doctor     \n",
      "\t-1.5058\tfoot pain      \t\t1.3675\tseason         \n",
      "\t-1.5007\talready knew   \t\t1.3660\texceedingly    \n",
      "\t-1.4989\tsantiago       \t\t1.3619\trada           \n",
      "\t-1.4943\tgone see       \t\t1.3579\tsorts          \n",
      "\t-1.4873\tpleasant professional\t\t1.3556\tfreindly       \n",
      "\t-1.4805\tob care        \t\t1.3530\treleasing      \n",
      "\t-1.4765\tdidn much      \t\t1.3529\tve doctors     \n",
      "\t-1.4764\tknowledgeable cares\t\t1.3528\tdr harris      \n",
      "\t-1.4759\tback nurse     \t\t1.3463\tmedicare       \n",
      "\t-1.4742\tdr field       \t\t1.3449\tdone everything\n",
      "\t-1.4727\tsaid done      \t\t1.3424\tcomp           \n",
      "\t-1.4689\tcardwell       \t\t1.3420\talabama        \n",
      "\t-1.4689\tdr cardwell    \t\t1.3401\tlate appt      \n",
      "\t-1.4602\tdr fodor       \t\t1.3394\tanswered question\n",
      "\t-1.4602\tmaud           \t\t1.3393\tpleased treatment\n",
      "\t-1.4594\tsamuels        \t\t1.3336\tquestions excellent\n",
      "\t-1.4545\tsee always     \t\t1.3331\tpatients patient\n",
      "\t-1.4471\tfelt bad       \t\t1.3273\tunderstanding patient\n",
      "\t-1.4465\tlinda          \t\t1.3253\thaber          \n",
      "\t-1.4462\tdr ferrier     \t\t1.3243\tfalahati       \n",
      "\t-1.4462\tferrier        \t\t1.3234\tjokes          \n",
      "\t-1.4419\tgood medical   \t\t1.3232\thero           \n",
      "\t-1.4313\tann            \t\t1.3214\tepisode        \n",
      "\t-1.4293\tboss           \t\t1.3204\tbeforehand     \n"
     ]
    }
   ],
   "source": [
    "show_most_informative_features(vectorizer, clf.best_estimator_, n=100)"
   ]
  },
  {
   "cell_type": "code",
   "execution_count": null,
   "metadata": {
    "collapsed": true
   },
   "outputs": [],
   "source": []
  }
 ],
 "metadata": {
  "kernelspec": {
   "display_name": "Python 3",
   "language": "python",
   "name": "python3"
  },
  "language_info": {
   "codemirror_mode": {
    "name": "ipython",
    "version": 3
   },
   "file_extension": ".py",
   "mimetype": "text/x-python",
   "name": "python",
   "nbconvert_exporter": "python",
   "pygments_lexer": "ipython3",
   "version": "3.4.4"
  }
 },
 "nbformat": 4,
 "nbformat_minor": 0
}
